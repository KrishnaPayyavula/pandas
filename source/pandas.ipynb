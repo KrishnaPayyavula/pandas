{
 "cells": [
  {
   "cell_type": "code",
   "execution_count": null,
   "metadata": {},
   "outputs": [],
   "source": [
    "import pandas as pd\n",
    "import numpy as np\n",
    "\n",
    "\n",
    "data_frame = pd.DataFrame(np.random.randn(10,10))\n",
    "\n",
    "# create a random data frame with 10 rows and 10 columns\n",
    "\n",
    "\n",
    "# Create a new randon array using numpy\n",
    "random_array = np.random.randn(10)\n",
    "pandas_series = pd.Series(random_array , index = ['a','b','c','d','e','f','g','h','i','j'])\n",
    "print (pandas_series)\n",
    "\n",
    "\n",
    "print(type(data_frame))\n",
    "print(type(pandas_series))\n",
    "print(type(random_array))\n",
    "type(pandas_series[\"i\"])\n",
    "\n",
    "pandas_series.index\n",
    "\n",
    "array_2d = np.random.randn(3,2)\n",
    "print(array_2d)\n",
    "\n",
    "\n"
   ]
  },
  {
   "cell_type": "code",
   "execution_count": null,
   "metadata": {},
   "outputs": [],
   "source": [
    "data_frame.columns\n",
    "data_frame.columns = ['a','b','c','d','e','f','g','h','i','j']\n",
    "data_frame"
   ]
  },
  {
   "cell_type": "code",
   "execution_count": null,
   "metadata": {},
   "outputs": [],
   "source": []
  }
 ],
 "metadata": {
  "kernelspec": {
   "display_name": ".venv",
   "language": "python",
   "name": "python3"
  },
  "language_info": {
   "codemirror_mode": {
    "name": "ipython",
    "version": 3
   },
   "file_extension": ".py",
   "mimetype": "text/x-python",
   "name": "python",
   "nbconvert_exporter": "python",
   "pygments_lexer": "ipython3",
   "version": "3.9.6"
  }
 },
 "nbformat": 4,
 "nbformat_minor": 2
}
